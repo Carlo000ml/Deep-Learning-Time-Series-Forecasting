{
 "cells": [
  {
   "cell_type": "markdown",
   "metadata": {},
   "source": [
    "# INTRODUCTION\n",
    "\n",
    "In this notebook we want to assess the optimal weights to ensemble our best models that are already trained. The problem is that we can not simply test several weights ona a test set since our models have been trained on different training sets, so it is possible that some models were trained on data that are part of the test set. To overcome the latter problem we are going to build a more consistent evaluation of the models:\n",
    "\n",
    "- each model is tested on 7 different datasets, and the performance is simply the avarage performance obtained over the seven datasets\n",
    "\n",
    "- each dataset is a balanced dataset (same number of time series for each category)\n",
    "\n",
    "- each dataset comprise 277 element for category (cardinality of category F, less represented category). Therefore all the seven datasets contains all the time series from category F and subsets of 277 elements for other categories.\n",
    "\n",
    "- the subsets of 277 elements are built by means of random choice with a different seed for every dataset.\n",
    "\n"
   ]
  },
  {
   "cell_type": "markdown",
   "metadata": {},
   "source": [
    "# IMPORT PACKAGES AND DATA"
   ]
  },
  {
   "cell_type": "code",
   "execution_count": 1,
   "metadata": {
    "execution": {
     "iopub.execute_input": "2023-12-21T09:03:02.689381Z",
     "iopub.status.busy": "2023-12-21T09:03:02.689117Z",
     "iopub.status.idle": "2023-12-21T09:03:02.701152Z",
     "shell.execute_reply": "2023-12-21T09:03:02.700235Z",
     "shell.execute_reply.started": "2023-12-21T09:03:02.689356Z"
    }
   },
   "outputs": [],
   "source": [
    "# Fix randomness and hide warnings\n",
    "seed = 42\n",
    "\n",
    "import os\n",
    "os.environ['TF_CPP_MIN_LOG_LEVEL'] = '3'\n",
    "os.environ['PYTHONHASHSEED'] = str(seed)\n",
    "os.environ['MPLCONFIGDIR'] = os.getcwd()+'/configs/'\n",
    "\n",
    "import warnings\n",
    "warnings.simplefilter(action='ignore', category=FutureWarning)\n",
    "warnings.simplefilter(action='ignore', category=Warning)\n",
    "\n",
    "import numpy as np\n",
    "np.random.seed(seed)\n",
    "\n",
    "import logging\n",
    "\n",
    "import random\n",
    "random.seed(seed)"
   ]
  },
  {
   "cell_type": "code",
   "execution_count": 2,
   "metadata": {
    "execution": {
     "iopub.execute_input": "2023-12-21T09:03:02.718165Z",
     "iopub.status.busy": "2023-12-21T09:03:02.717621Z",
     "iopub.status.idle": "2023-12-21T09:03:14.469514Z",
     "shell.execute_reply": "2023-12-21T09:03:14.468560Z",
     "shell.execute_reply.started": "2023-12-21T09:03:02.718140Z"
    }
   },
   "outputs": [
    {
     "name": "stdout",
     "output_type": "stream",
     "text": [
      "2.13.0\n"
     ]
    }
   ],
   "source": [
    "# Import tensorflow\n",
    "import tensorflow as tf\n",
    "from tensorflow import keras as tfk\n",
    "from tensorflow.keras import layers as tfkl\n",
    "from tensorflow.keras import initializers\n",
    "tf.autograph.set_verbosity(0)\n",
    "tf.get_logger().setLevel(logging.ERROR)\n",
    "tf.compat.v1.logging.set_verbosity(tf.compat.v1.logging.ERROR)\n",
    "tf.random.set_seed(seed)\n",
    "tf.compat.v1.set_random_seed(seed)\n",
    "print(tf.__version__)"
   ]
  },
  {
   "cell_type": "code",
   "execution_count": 3,
   "metadata": {
    "execution": {
     "iopub.execute_input": "2023-12-21T09:03:14.472226Z",
     "iopub.status.busy": "2023-12-21T09:03:14.471498Z",
     "iopub.status.idle": "2023-12-21T09:03:15.147935Z",
     "shell.execute_reply": "2023-12-21T09:03:15.147093Z",
     "shell.execute_reply.started": "2023-12-21T09:03:14.472190Z"
    }
   },
   "outputs": [],
   "source": [
    "import pandas as pd\n",
    "import seaborn as sns\n",
    "import matplotlib.pyplot as plt\n",
    "plt.rc('font', size=16)\n",
    "from sklearn.metrics import accuracy_score, f1_score, precision_score, recall_score\n",
    "from sklearn.metrics import confusion_matrix\n",
    "from sklearn.preprocessing import MinMaxScaler"
   ]
  },
  {
   "cell_type": "code",
   "execution_count": 4,
   "metadata": {
    "execution": {
     "iopub.execute_input": "2023-12-21T09:03:15.149586Z",
     "iopub.status.busy": "2023-12-21T09:03:15.149218Z",
     "iopub.status.idle": "2023-12-21T09:03:28.248222Z",
     "shell.execute_reply": "2023-12-21T09:03:28.247208Z",
     "shell.execute_reply.started": "2023-12-21T09:03:15.149548Z"
    }
   },
   "outputs": [],
   "source": [
    "data=np.load('/kaggle/input/data-assignment2/training_data.npy', allow_pickle=True)"
   ]
  },
  {
   "cell_type": "code",
   "execution_count": 5,
   "metadata": {
    "execution": {
     "iopub.execute_input": "2023-12-21T09:03:28.251499Z",
     "iopub.status.busy": "2023-12-21T09:03:28.251109Z",
     "iopub.status.idle": "2023-12-21T09:03:28.265357Z",
     "shell.execute_reply": "2023-12-21T09:03:28.264462Z",
     "shell.execute_reply.started": "2023-12-21T09:03:28.251468Z"
    }
   },
   "outputs": [],
   "source": [
    "categories=np.load('/kaggle/input/data-assignment2/categories.npy', allow_pickle=True)"
   ]
  },
  {
   "cell_type": "code",
   "execution_count": 6,
   "metadata": {
    "execution": {
     "iopub.execute_input": "2023-12-21T09:03:28.267363Z",
     "iopub.status.busy": "2023-12-21T09:03:28.266546Z",
     "iopub.status.idle": "2023-12-21T09:03:28.288220Z",
     "shell.execute_reply": "2023-12-21T09:03:28.287528Z",
     "shell.execute_reply.started": "2023-12-21T09:03:28.267332Z"
    }
   },
   "outputs": [],
   "source": [
    "valid_periods=np.load('/kaggle/input/data-assignment2/valid_periods.npy', allow_pickle=True)"
   ]
  },
  {
   "cell_type": "code",
   "execution_count": 7,
   "metadata": {
    "execution": {
     "iopub.execute_input": "2023-12-21T09:03:28.289644Z",
     "iopub.status.busy": "2023-12-21T09:03:28.289364Z",
     "iopub.status.idle": "2023-12-21T09:03:28.512992Z",
     "shell.execute_reply": "2023-12-21T09:03:28.511967Z",
     "shell.execute_reply.started": "2023-12-21T09:03:28.289621Z"
    }
   },
   "outputs": [],
   "source": [
    "recovered_series = []\n",
    "\n",
    "for i in range(len(data)):\n",
    "    start, end = valid_periods[i]\n",
    "    series = data[i][start:end]\n",
    "    recovered_series.append(series)\n",
    "\n",
    "categorized_series = {category: [] for category in ['A', 'B', 'C', 'D', 'E', 'F']}\n",
    "\n",
    "for i, category_code in enumerate(categories):\n",
    "    category = category_code.item()  # Extract the string value\n",
    "    categorized_series[category].append(recovered_series[i])"
   ]
  },
  {
   "cell_type": "markdown",
   "metadata": {},
   "source": [
    "# BUILD THE DATASETS"
   ]
  },
  {
   "cell_type": "code",
   "execution_count": 9,
   "metadata": {
    "execution": {
     "iopub.execute_input": "2023-12-20T15:29:01.190949Z",
     "iopub.status.busy": "2023-12-20T15:29:01.190587Z",
     "iopub.status.idle": "2023-12-20T15:29:01.197899Z",
     "shell.execute_reply": "2023-12-20T15:29:01.197011Z",
     "shell.execute_reply.started": "2023-12-20T15:29:01.190920Z"
    }
   },
   "outputs": [
    {
     "data": {
      "text/plain": [
       "277"
      ]
     },
     "execution_count": 9,
     "metadata": {},
     "output_type": "execute_result"
    }
   ],
   "source": [
    "num_cat_F=len(categorized_series['F'])\n",
    "num_cat_F"
   ]
  },
  {
   "cell_type": "markdown",
   "metadata": {},
   "source": [
    "-  given -data- -number- -random_state-\n",
    "- returns -number- random elements from -data-, using -random_state-"
   ]
  },
  {
   "cell_type": "code",
   "execution_count": 36,
   "metadata": {
    "execution": {
     "iopub.execute_input": "2023-12-20T15:40:39.587169Z",
     "iopub.status.busy": "2023-12-20T15:40:39.586338Z",
     "iopub.status.idle": "2023-12-20T15:40:39.592511Z",
     "shell.execute_reply": "2023-12-20T15:40:39.591461Z",
     "shell.execute_reply.started": "2023-12-20T15:40:39.587136Z"
    }
   },
   "outputs": [],
   "source": [
    "def build_random_data(data , number , random_state):\n",
    "    \n",
    "    \n",
    "    indexes=np.arange(len(data))\n",
    "    \n",
    "    np.random.seed(random_state)\n",
    "    select_indexes=np.random.choice(indexes , number , False )\n",
    "    \n",
    "    to_return=[]\n",
    "    \n",
    "    for i in select_indexes:\n",
    "        \n",
    "        to_return.append(data[i])\n",
    "    \n",
    "    return to_return"
   ]
  },
  {
   "cell_type": "markdown",
   "metadata": {},
   "source": [
    "-  given -data- ;  -number- \n",
    "\n",
    "- returns a list of 7 elements, each element is a different subset of -number- elements from -data- "
   ]
  },
  {
   "cell_type": "code",
   "execution_count": 40,
   "metadata": {
    "execution": {
     "iopub.execute_input": "2023-12-20T15:44:36.687370Z",
     "iopub.status.busy": "2023-12-20T15:44:36.686688Z",
     "iopub.status.idle": "2023-12-20T15:44:36.692426Z",
     "shell.execute_reply": "2023-12-20T15:44:36.691484Z",
     "shell.execute_reply.started": "2023-12-20T15:44:36.687336Z"
    }
   },
   "outputs": [],
   "source": [
    "def build_different_sets(data , number):\n",
    "    to_return=[]\n",
    "    \n",
    "    for random_state in [2,309209 , 944, 29090 , 775 , 4733, 66]:  # random_seeds\n",
    "        d=build_random_data(data , number,random_state)\n",
    "        \n",
    "        to_return.append(d)\n",
    "        \n",
    "    return to_return\n",
    "    \n",
    "     "
   ]
  },
  {
   "cell_type": "markdown",
   "metadata": {},
   "source": [
    "- apply \"build_different_sets\" to every category"
   ]
  },
  {
   "cell_type": "code",
   "execution_count": 43,
   "metadata": {
    "execution": {
     "iopub.execute_input": "2023-12-20T15:45:48.643541Z",
     "iopub.status.busy": "2023-12-20T15:45:48.642678Z",
     "iopub.status.idle": "2023-12-20T15:45:48.662029Z",
     "shell.execute_reply": "2023-12-20T15:45:48.661063Z",
     "shell.execute_reply.started": "2023-12-20T15:45:48.643507Z"
    }
   },
   "outputs": [],
   "source": [
    "A=build_different_sets(categorized_series['A'] , 277)\n",
    "B=build_different_sets(categorized_series['B'] , 277)\n",
    "C=build_different_sets(categorized_series['C'] , 277)\n",
    "D=build_different_sets(categorized_series['D'] , 277)\n",
    "E=build_different_sets(categorized_series['E'] , 277)\n",
    "F=build_different_sets(categorized_series['F'] , 277)\n",
    "\n"
   ]
  },
  {
   "cell_type": "markdown",
   "metadata": {},
   "source": [
    "# Build the model"
   ]
  },
  {
   "cell_type": "code",
   "execution_count": 8,
   "metadata": {
    "execution": {
     "iopub.execute_input": "2023-12-21T09:03:28.515123Z",
     "iopub.status.busy": "2023-12-21T09:03:28.514387Z",
     "iopub.status.idle": "2023-12-21T09:03:28.520094Z",
     "shell.execute_reply": "2023-12-21T09:03:28.519098Z",
     "shell.execute_reply.started": "2023-12-21T09:03:28.515083Z"
    }
   },
   "outputs": [],
   "source": [
    "from tensorflow import keras"
   ]
  },
  {
   "cell_type": "markdown",
   "metadata": {},
   "source": [
    "-  Function to build the ensemble"
   ]
  },
  {
   "cell_type": "code",
   "execution_count": 9,
   "metadata": {
    "execution": {
     "iopub.execute_input": "2023-12-21T09:03:28.521807Z",
     "iopub.status.busy": "2023-12-21T09:03:28.521395Z",
     "iopub.status.idle": "2023-12-21T09:03:28.530768Z",
     "shell.execute_reply": "2023-12-21T09:03:28.529759Z",
     "shell.execute_reply.started": "2023-12-21T09:03:28.521776Z"
    }
   },
   "outputs": [],
   "source": [
    "class WeightedAverageLayer(tf.keras.layers.Layer):\n",
    "    def __init__(self, w1, w2, w3, w4, **kwargs):\n",
    "        super(WeightedAverageLayer, self).__init__(**kwargs)\n",
    "        self.w1 = w1\n",
    "        self.w2 = w2\n",
    "        self.w3 = w3\n",
    "        self.w4 = w4\n",
    "\n",
    "    def call(self, inputs):\n",
    "        return self.w1 * inputs[0] + self.w2 * inputs[1] + self.w3 * inputs[2] +self.w4 * inputs[3]"
   ]
  },
  {
   "cell_type": "markdown",
   "metadata": {},
   "source": [
    "-  Import the models"
   ]
  },
  {
   "cell_type": "code",
   "execution_count": 10,
   "metadata": {
    "execution": {
     "iopub.execute_input": "2023-12-21T09:03:34.847512Z",
     "iopub.status.busy": "2023-12-21T09:03:34.847144Z",
     "iopub.status.idle": "2023-12-21T09:03:55.299486Z",
     "shell.execute_reply": "2023-12-21T09:03:55.298507Z",
     "shell.execute_reply.started": "2023-12-21T09:03:34.847483Z"
    }
   },
   "outputs": [],
   "source": [
    "model_best1 = keras.models.load_model('/kaggle/input/models/final_ResnetBidi (2)/ResnetBidi/SubmissionModel')\n",
    "model_transformer = keras.models.load_model('/kaggle/input/models/transformer/transformer/SubmissionModel')\n",
    "model_best2 = keras.models.load_model('/kaggle/input/models/ResnetAttention_32filts_8h16dim/ResnetAttention_32filts_8h16dim/SubmissionModel')\n",
    "model_informer = keras.models.load_model('/kaggle/input/models/Informer-style/Informer-style')\n",
    "models = [model_best1, model_best2, model_informer , model_transformer]"
   ]
  },
  {
   "cell_type": "code",
   "execution_count": 54,
   "metadata": {
    "execution": {
     "iopub.execute_input": "2023-12-20T16:05:29.718676Z",
     "iopub.status.busy": "2023-12-20T16:05:29.717811Z",
     "iopub.status.idle": "2023-12-20T16:05:29.724497Z",
     "shell.execute_reply": "2023-12-20T16:05:29.723513Z",
     "shell.execute_reply.started": "2023-12-20T16:05:29.718642Z"
    }
   },
   "outputs": [],
   "source": [
    "sequence_length = 200\n",
    "\n",
    "def create_sequences(data):\n",
    "    input_sequences = []\n",
    "    output_sequences = []\n",
    "    for series in data:\n",
    "        for i in range(len(series) - sequence_length - 9):  # Considering 9 samples as the prediction horizon\n",
    "            input_sequences.append(series[i:i + sequence_length])\n",
    "            output_sequences.append(series[i + sequence_length:i + sequence_length + 9])\n",
    "    return np.array(input_sequences), np.array(output_sequences)\n",
    "\n",
    "\n"
   ]
  },
  {
   "cell_type": "markdown",
   "metadata": {},
   "source": [
    "- Given a list of lists (list of datasets) return a list of dictionaries.\n",
    "- Each dictionary has two keys :  \"input\" and \"output\" -> \"input\": input sequences (length=200) ; \"output\": output sequences ( length=9)"
   ]
  },
  {
   "cell_type": "code",
   "execution_count": 56,
   "metadata": {
    "execution": {
     "iopub.execute_input": "2023-12-20T16:05:44.855666Z",
     "iopub.status.busy": "2023-12-20T16:05:44.854727Z",
     "iopub.status.idle": "2023-12-20T16:05:44.862441Z",
     "shell.execute_reply": "2023-12-20T16:05:44.861088Z",
     "shell.execute_reply.started": "2023-12-20T16:05:44.855622Z"
    }
   },
   "outputs": [],
   "source": [
    "def build_input_output(list_of_lists):\n",
    "    to_return=[]\n",
    "    \n",
    "    for el in range(len(list_of_lists)):\n",
    "        d={}\n",
    "        \n",
    "        inp , out = create_sequences(list_of_lists[el])\n",
    "        \n",
    "        d[\"input\"]=inp\n",
    "        \n",
    "        d[\"output\"]=out\n",
    "        \n",
    "        to_return.append(d)\n",
    "        \n",
    "    return to_return"
   ]
  },
  {
   "cell_type": "code",
   "execution_count": 60,
   "metadata": {
    "execution": {
     "iopub.execute_input": "2023-12-20T16:06:45.367827Z",
     "iopub.status.busy": "2023-12-20T16:06:45.367471Z",
     "iopub.status.idle": "2023-12-20T16:06:46.816094Z",
     "shell.execute_reply": "2023-12-20T16:06:46.815090Z",
     "shell.execute_reply.started": "2023-12-20T16:06:45.367799Z"
    }
   },
   "outputs": [],
   "source": [
    "A_seq=build_input_output(A)\n",
    "B_seq=build_input_output(B)\n",
    "C_seq=build_input_output(C)\n",
    "D_seq=build_input_output(D)\n",
    "E_seq=build_input_output(E)\n",
    "F_seq=build_input_output(F)\n"
   ]
  },
  {
   "cell_type": "code",
   "execution_count": 12,
   "metadata": {
    "execution": {
     "iopub.execute_input": "2023-12-21T09:04:18.844238Z",
     "iopub.status.busy": "2023-12-21T09:04:18.843254Z",
     "iopub.status.idle": "2023-12-21T09:04:21.111342Z",
     "shell.execute_reply": "2023-12-21T09:04:21.110113Z",
     "shell.execute_reply.started": "2023-12-21T09:04:18.844201Z"
    }
   },
   "outputs": [],
   "source": [
    "inputs = keras.Input(shape=(200,1))\n",
    "outputs = [model(inputs) for model in models]"
   ]
  },
  {
   "cell_type": "markdown",
   "metadata": {},
   "source": [
    "-  Function to give a more robust estimation of MSE and MAE of a model\n",
    "\n",
    "- For each category we have 7 different datasets and we have 6 categories.\n",
    "\n",
    "- For each category the model is tested on the 7 datasets and the avarage mse and mae are computed\n",
    "\n",
    "- the final mse and mae are the avarage of the mse and mae obtained for the categories"
   ]
  },
  {
   "cell_type": "code",
   "execution_count": 75,
   "metadata": {
    "execution": {
     "iopub.execute_input": "2023-12-20T16:33:03.653858Z",
     "iopub.status.busy": "2023-12-20T16:33:03.653469Z",
     "iopub.status.idle": "2023-12-20T16:33:03.661695Z",
     "shell.execute_reply": "2023-12-20T16:33:03.660599Z",
     "shell.execute_reply.started": "2023-12-20T16:33:03.653822Z"
    }
   },
   "outputs": [],
   "source": [
    "from sklearn.metrics import mean_squared_error, mean_absolute_error\n",
    "\n",
    "def evaluate_model(model , list_of_cat_sequences=[A_seq , B_seq , C_seq , D_seq , E_seq , F_seq]):\n",
    "    MSE=[]\n",
    "    MAE=[]\n",
    "    \n",
    "    for seq in list_of_cat_sequences:\n",
    "        mse=[]\n",
    "        mae=[]\n",
    "        \n",
    "        for el in seq:\n",
    "            pred=model.predict(el[\"input\"] , verbose=0)\n",
    "            mse.append(mean_squared_error(el[\"output\"], pred))\n",
    "            mae.append(mean_absolute_error(el[\"output\"], pred))\n",
    "            \n",
    "        print(\"done_1\")\n",
    "        MSE.append(np.mean(mse))\n",
    "        MAE.append(np.mean(mae))\n",
    "        \n",
    "    return {\"MSE\" : np.mean(MSE) , \"MAE\" : np.mean(MAE)}\n",
    "        "
   ]
  },
  {
   "cell_type": "markdown",
   "metadata": {},
   "source": [
    "- different combibation of weights are tested"
   ]
  },
  {
   "cell_type": "code",
   "execution_count": 76,
   "metadata": {
    "execution": {
     "iopub.execute_input": "2023-12-20T16:33:03.663449Z",
     "iopub.status.busy": "2023-12-20T16:33:03.663134Z",
     "iopub.status.idle": "2023-12-20T16:33:03.686861Z",
     "shell.execute_reply": "2023-12-20T16:33:03.685934Z",
     "shell.execute_reply.started": "2023-12-20T16:33:03.663424Z"
    }
   },
   "outputs": [],
   "source": [
    "#0.25,0.25,0.25,0.25\n",
    "ensemble_output = WeightedAverageLayer(0.25, 0.25, 0.25, 0.25)(outputs)\n",
    "model_ensemble = keras.Model(inputs=inputs, outputs=ensemble_output, name='ensemble')\n"
   ]
  },
  {
   "cell_type": "code",
   "execution_count": 77,
   "metadata": {
    "execution": {
     "iopub.execute_input": "2023-12-20T16:33:05.507187Z",
     "iopub.status.busy": "2023-12-20T16:33:05.506595Z",
     "iopub.status.idle": "2023-12-20T16:38:26.999938Z",
     "shell.execute_reply": "2023-12-20T16:38:26.998963Z",
     "shell.execute_reply.started": "2023-12-20T16:33:05.507155Z"
    }
   },
   "outputs": [
    {
     "name": "stdout",
     "output_type": "stream",
     "text": [
      "done_1\n",
      "done_1\n",
      "done_1\n",
      "done_1\n",
      "done_1\n",
      "done_1\n"
     ]
    },
    {
     "data": {
      "text/plain": [
       "{'MSE': 0.004184409471205163, 'MAE': 0.03857088708292402}"
      ]
     },
     "execution_count": 77,
     "metadata": {},
     "output_type": "execute_result"
    }
   ],
   "source": [
    "evaluate_model(model_ensemble)"
   ]
  },
  {
   "cell_type": "code",
   "execution_count": 78,
   "metadata": {
    "execution": {
     "iopub.execute_input": "2023-12-20T16:38:27.002193Z",
     "iopub.status.busy": "2023-12-20T16:38:27.001887Z",
     "iopub.status.idle": "2023-12-20T16:43:48.928016Z",
     "shell.execute_reply": "2023-12-20T16:43:48.927108Z",
     "shell.execute_reply.started": "2023-12-20T16:38:27.002166Z"
    }
   },
   "outputs": [
    {
     "name": "stdout",
     "output_type": "stream",
     "text": [
      "done_1\n",
      "done_1\n",
      "done_1\n",
      "done_1\n",
      "done_1\n",
      "done_1\n"
     ]
    },
    {
     "data": {
      "text/plain": [
       "{'MSE': 0.004181274182498473, 'MAE': 0.038568294852347265}"
      ]
     },
     "execution_count": 78,
     "metadata": {},
     "output_type": "execute_result"
    }
   ],
   "source": [
    "#(0.4 , 0.2 , 0.2 , 0.2)\n",
    "ensemble_output = WeightedAverageLayer(0.4 , 0.2 , 0.2 , 0.2)(outputs)\n",
    "model_ensemble = keras.Model(inputs=inputs, outputs=ensemble_output, name='ensemble')\n",
    "evaluate_model(model_ensemble)"
   ]
  },
  {
   "cell_type": "code",
   "execution_count": 79,
   "metadata": {
    "execution": {
     "iopub.execute_input": "2023-12-20T16:43:48.929697Z",
     "iopub.status.busy": "2023-12-20T16:43:48.929339Z",
     "iopub.status.idle": "2023-12-20T16:49:10.087016Z",
     "shell.execute_reply": "2023-12-20T16:49:10.086105Z",
     "shell.execute_reply.started": "2023-12-20T16:43:48.929663Z"
    }
   },
   "outputs": [
    {
     "name": "stdout",
     "output_type": "stream",
     "text": [
      "done_1\n",
      "done_1\n",
      "done_1\n",
      "done_1\n",
      "done_1\n",
      "done_1\n"
     ]
    },
    {
     "data": {
      "text/plain": [
       "{'MSE': 0.004202270443320931, 'MAE': 0.038656827827364335}"
      ]
     },
     "execution_count": 79,
     "metadata": {},
     "output_type": "execute_result"
    }
   ],
   "source": [
    "#(0.3,0.2,0.25,0.25)\n",
    "ensemble_output = WeightedAverageLayer(0.3,0.2,0.25,0.25)(outputs)\n",
    "model_ensemble = keras.Model(inputs=inputs, outputs=ensemble_output, name='ensemble')\n",
    "evaluate_model(model_ensemble)"
   ]
  },
  {
   "cell_type": "code",
   "execution_count": 80,
   "metadata": {
    "execution": {
     "iopub.execute_input": "2023-12-20T16:49:10.089824Z",
     "iopub.status.busy": "2023-12-20T16:49:10.089164Z",
     "iopub.status.idle": "2023-12-20T16:54:31.249544Z",
     "shell.execute_reply": "2023-12-20T16:54:31.248583Z",
     "shell.execute_reply.started": "2023-12-20T16:49:10.089789Z"
    }
   },
   "outputs": [
    {
     "name": "stdout",
     "output_type": "stream",
     "text": [
      "done_1\n",
      "done_1\n",
      "done_1\n",
      "done_1\n",
      "done_1\n",
      "done_1\n"
     ]
    },
    {
     "data": {
      "text/plain": [
       "{'MSE': 0.00419015493168083, 'MAE': 0.03862259015288376}"
      ]
     },
     "execution_count": 80,
     "metadata": {},
     "output_type": "execute_result"
    }
   ],
   "source": [
    "#(0.35 , 0.2 , 0.2, 0.25)\n",
    "ensemble_output = WeightedAverageLayer(0.35 , 0.2 , 0.2, 0.25)(outputs)\n",
    "model_ensemble = keras.Model(inputs=inputs, outputs=ensemble_output, name='ensemble')\n",
    "evaluate_model(model_ensemble)"
   ]
  },
  {
   "cell_type": "code",
   "execution_count": 81,
   "metadata": {
    "execution": {
     "iopub.execute_input": "2023-12-20T16:56:19.743130Z",
     "iopub.status.busy": "2023-12-20T16:56:19.742705Z",
     "iopub.status.idle": "2023-12-20T17:01:40.485837Z",
     "shell.execute_reply": "2023-12-20T17:01:40.484833Z",
     "shell.execute_reply.started": "2023-12-20T16:56:19.743099Z"
    }
   },
   "outputs": [
    {
     "name": "stdout",
     "output_type": "stream",
     "text": [
      "done_1\n",
      "done_1\n",
      "done_1\n",
      "done_1\n",
      "done_1\n",
      "done_1\n"
     ]
    },
    {
     "data": {
      "text/plain": [
       "{'MSE': 0.004210482490092536, 'MAE': 0.03876622074312779}"
      ]
     },
     "execution_count": 81,
     "metadata": {},
     "output_type": "execute_result"
    }
   ],
   "source": [
    "#(0.5 , 0.15 , 0.15 , 0.2)\n",
    "ensemble_output = WeightedAverageLayer(0.5 , 0.15 , 0.15 , 0.2)(outputs)\n",
    "model_ensemble = keras.Model(inputs=inputs, outputs=ensemble_output, name='ensemble')\n",
    "evaluate_model(model_ensemble)"
   ]
  },
  {
   "cell_type": "code",
   "execution_count": 82,
   "metadata": {
    "execution": {
     "iopub.execute_input": "2023-12-20T17:01:40.487639Z",
     "iopub.status.busy": "2023-12-20T17:01:40.487363Z",
     "iopub.status.idle": "2023-12-20T17:07:01.266054Z",
     "shell.execute_reply": "2023-12-20T17:07:01.265169Z",
     "shell.execute_reply.started": "2023-12-20T17:01:40.487616Z"
    }
   },
   "outputs": [
    {
     "name": "stdout",
     "output_type": "stream",
     "text": [
      "done_1\n",
      "done_1\n",
      "done_1\n",
      "done_1\n",
      "done_1\n",
      "done_1\n"
     ]
    },
    {
     "data": {
      "text/plain": [
       "{'MSE': 0.004212513862727453, 'MAE': 0.038740852678702094}"
      ]
     },
     "execution_count": 82,
     "metadata": {},
     "output_type": "execute_result"
    }
   ],
   "source": [
    "#(0.5 , 0.15 , 0.2 , 0.15)\n",
    "ensemble_output = WeightedAverageLayer(0.5 , 0.15 , 0.2 , 0.15)(outputs)\n",
    "model_ensemble = keras.Model(inputs=inputs, outputs=ensemble_output, name='ensemble')\n",
    "evaluate_model(model_ensemble)"
   ]
  },
  {
   "cell_type": "code",
   "execution_count": 83,
   "metadata": {
    "execution": {
     "iopub.execute_input": "2023-12-20T17:07:13.499816Z",
     "iopub.status.busy": "2023-12-20T17:07:13.499428Z",
     "iopub.status.idle": "2023-12-20T17:12:34.315869Z",
     "shell.execute_reply": "2023-12-20T17:12:34.314828Z",
     "shell.execute_reply.started": "2023-12-20T17:07:13.499786Z"
    }
   },
   "outputs": [
    {
     "name": "stdout",
     "output_type": "stream",
     "text": [
      "done_1\n",
      "done_1\n",
      "done_1\n",
      "done_1\n",
      "done_1\n",
      "done_1\n"
     ]
    },
    {
     "data": {
      "text/plain": [
       "{'MSE': 0.004200037390236453, 'MAE': 0.03863299404319757}"
      ]
     },
     "execution_count": 83,
     "metadata": {},
     "output_type": "execute_result"
    }
   ],
   "source": [
    "#(0.4 , 0.175 , 0.25 , 0.175)\n",
    "ensemble_output = WeightedAverageLayer(0.4 , 0.175 , 0.25 , 0.175)(outputs)\n",
    "model_ensemble = keras.Model(inputs=inputs, outputs=ensemble_output, name='ensemble')\n",
    "evaluate_model(model_ensemble)"
   ]
  },
  {
   "cell_type": "code",
   "execution_count": 84,
   "metadata": {
    "execution": {
     "iopub.execute_input": "2023-12-20T17:12:34.318159Z",
     "iopub.status.busy": "2023-12-20T17:12:34.317765Z",
     "iopub.status.idle": "2023-12-20T17:17:56.431197Z",
     "shell.execute_reply": "2023-12-20T17:17:56.430240Z",
     "shell.execute_reply.started": "2023-12-20T17:12:34.318126Z"
    }
   },
   "outputs": [
    {
     "name": "stdout",
     "output_type": "stream",
     "text": [
      "done_1\n",
      "done_1\n",
      "done_1\n",
      "done_1\n",
      "done_1\n",
      "done_1\n"
     ]
    },
    {
     "data": {
      "text/plain": [
       "{'MSE': 0.004150239701113451, 'MAE': 0.03842443998627953}"
      ]
     },
     "execution_count": 84,
     "metadata": {},
     "output_type": "execute_result"
    }
   ],
   "source": [
    "#(0.4 , 0.25 , 0.175 , 0.175)\n",
    "ensemble_output = WeightedAverageLayer(0.4 , 0.25 , 0.175 , 0.175)(outputs)\n",
    "model_ensemble = keras.Model(inputs=inputs, outputs=ensemble_output, name='ensemble')\n",
    "evaluate_model(model_ensemble)"
   ]
  },
  {
   "cell_type": "code",
   "execution_count": 85,
   "metadata": {
    "execution": {
     "iopub.execute_input": "2023-12-20T17:17:56.432822Z",
     "iopub.status.busy": "2023-12-20T17:17:56.432457Z",
     "iopub.status.idle": "2023-12-20T17:23:17.076236Z",
     "shell.execute_reply": "2023-12-20T17:23:17.075295Z",
     "shell.execute_reply.started": "2023-12-20T17:17:56.432788Z"
    }
   },
   "outputs": [
    {
     "name": "stdout",
     "output_type": "stream",
     "text": [
      "done_1\n",
      "done_1\n",
      "done_1\n",
      "done_1\n",
      "done_1\n",
      "done_1\n"
     ]
    },
    {
     "data": {
      "text/plain": [
       "{'MSE': 0.0041992394558032315, 'MAE': 0.03868756361026331}"
      ]
     },
     "execution_count": 85,
     "metadata": {},
     "output_type": "execute_result"
    }
   ],
   "source": [
    "#(0.4 , 0.175 , 0.175 , 0.25)\n",
    "ensemble_output = WeightedAverageLayer(0.4 , 0.175 , 0.175 , 0.25)(outputs)\n",
    "model_ensemble = keras.Model(inputs=inputs, outputs=ensemble_output, name='ensemble')\n",
    "evaluate_model(model_ensemble)"
   ]
  },
  {
   "cell_type": "code",
   "execution_count": 86,
   "metadata": {
    "execution": {
     "iopub.execute_input": "2023-12-20T17:24:43.496303Z",
     "iopub.status.busy": "2023-12-20T17:24:43.495921Z",
     "iopub.status.idle": "2023-12-20T17:30:03.889393Z",
     "shell.execute_reply": "2023-12-20T17:30:03.888490Z",
     "shell.execute_reply.started": "2023-12-20T17:24:43.496275Z"
    }
   },
   "outputs": [
    {
     "name": "stdout",
     "output_type": "stream",
     "text": [
      "done_1\n",
      "done_1\n",
      "done_1\n",
      "done_1\n",
      "done_1\n",
      "done_1\n"
     ]
    },
    {
     "data": {
      "text/plain": [
       "{'MSE': 0.00415122399706361, 'MAE': 0.03841189391653925}"
      ]
     },
     "execution_count": 86,
     "metadata": {},
     "output_type": "execute_result"
    }
   ],
   "source": [
    "#(0.4 , 0.25 , 0.2 , 0.15)\n",
    "ensemble_output = WeightedAverageLayer(0.4 , 0.25 , 0.2 , 0.15)(outputs)\n",
    "model_ensemble = keras.Model(inputs=inputs, outputs=ensemble_output, name='ensemble')\n",
    "evaluate_model(model_ensemble)"
   ]
  },
  {
   "cell_type": "markdown",
   "metadata": {},
   "source": [
    "# Best"
   ]
  },
  {
   "cell_type": "code",
   "execution_count": 13,
   "metadata": {
    "execution": {
     "iopub.execute_input": "2023-12-21T09:04:26.415311Z",
     "iopub.status.busy": "2023-12-21T09:04:26.414941Z",
     "iopub.status.idle": "2023-12-21T09:05:03.929269Z",
     "shell.execute_reply": "2023-12-21T09:05:03.928427Z",
     "shell.execute_reply.started": "2023-12-21T09:04:26.415282Z"
    }
   },
   "outputs": [],
   "source": [
    "ensemble_output = WeightedAverageLayer(0.4 , 0.25 , 0.175 , 0.175)(outputs)\n",
    "model_ensemble = keras.Model(inputs=inputs, outputs=ensemble_output, name='ensemble')\n",
    "model_ensemble.save('ensemble')"
   ]
  }
 ],
 "metadata": {
  "kaggle": {
   "accelerator": "gpu",
   "dataSources": [
    {
     "datasetId": 4147303,
     "sourceId": 7176604,
     "sourceType": "datasetVersion"
    },
    {
     "datasetId": 4199287,
     "sourceId": 7248339,
     "sourceType": "datasetVersion"
    }
   ],
   "dockerImageVersionId": 30627,
   "isGpuEnabled": true,
   "isInternetEnabled": true,
   "language": "python",
   "sourceType": "notebook"
  },
  "kernelspec": {
   "display_name": "Python 3 (ipykernel)",
   "language": "python",
   "name": "python3"
  },
  "language_info": {
   "codemirror_mode": {
    "name": "ipython",
    "version": 3
   },
   "file_extension": ".py",
   "mimetype": "text/x-python",
   "name": "python",
   "nbconvert_exporter": "python",
   "pygments_lexer": "ipython3",
   "version": "3.8.18"
  }
 },
 "nbformat": 4,
 "nbformat_minor": 4
}
